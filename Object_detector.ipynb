{
 "cells": [
  {
   "cell_type": "code",
   "execution_count": null,
   "id": "7484a54f",
   "metadata": {},
   "outputs": [],
   "source": [
    "import cv2\n",
    "import matplotlib.pyplot as plt"
   ]
  },
  {
   "cell_type": "code",
   "execution_count": null,
   "id": "5d7c8741",
   "metadata": {},
   "outputs": [],
   "source": [
    "config_file = 'ssd_mobilenet_v3_large_coco_2020_01_14.pbtxt'\n",
    "frozen_model = 'frozen_inference_graph.pb'"
   ]
  },
  {
   "cell_type": "code",
   "execution_count": null,
   "id": "671e551e",
   "metadata": {},
   "outputs": [],
   "source": [
    "model = cv2.dnn_DetectionModel(frozen_model,config_file)"
   ]
  },
  {
   "cell_type": "code",
   "execution_count": null,
   "id": "c490cc49",
   "metadata": {},
   "outputs": [],
   "source": [
    "classLabels = []\n",
    "file_name = 'labels.txt'\n",
    "\n",
    "with open(file_name,'rt') as fpt:\n",
    "    classLabels = fpt.read().rstrip('\\n').split('\\n')"
   ]
  },
  {
   "cell_type": "code",
   "execution_count": null,
   "id": "9d68f4c9",
   "metadata": {
    "scrolled": true
   },
   "outputs": [],
   "source": [
    "print(classLabels)"
   ]
  },
  {
   "cell_type": "code",
   "execution_count": null,
   "id": "e8dfd705",
   "metadata": {},
   "outputs": [],
   "source": [
    "print(len(classLabels))"
   ]
  },
  {
   "cell_type": "code",
   "execution_count": null,
   "id": "cd2f122d",
   "metadata": {},
   "outputs": [],
   "source": [
    "model.setInputSize(320,320)\n",
    "model.setInputScale(1.0/127.5)\n",
    "model.setInputMean((127.5,127.5,127.5))\n",
    "model.setInputSwapRB(True)"
   ]
  },
  {
   "cell_type": "markdown",
   "id": "45b89554",
   "metadata": {},
   "source": [
    "# Object detection in image"
   ]
  },
  {
   "cell_type": "code",
   "execution_count": null,
   "id": "d321a4f5",
   "metadata": {},
   "outputs": [],
   "source": [
    "img = cv2.imread('p1.jpg')"
   ]
  },
  {
   "cell_type": "code",
   "execution_count": null,
   "id": "0d8118b5",
   "metadata": {},
   "outputs": [],
   "source": [
    "plt.imshow(img)"
   ]
  },
  {
   "cell_type": "code",
   "execution_count": null,
   "id": "b932ffc8",
   "metadata": {},
   "outputs": [],
   "source": [
    "plt.imshow(cv2.cvtColor(img, cv2.COLOR_BGR2RGB))"
   ]
  },
  {
   "cell_type": "code",
   "execution_count": null,
   "id": "3bb466b8",
   "metadata": {},
   "outputs": [],
   "source": [
    "ClassIndex, confidece, bbox = model.detect(img,confThreshold=0.5)"
   ]
  },
  {
   "cell_type": "code",
   "execution_count": null,
   "id": "ff19fc4b",
   "metadata": {},
   "outputs": [],
   "source": [
    "print(ClassIndex)"
   ]
  },
  {
   "cell_type": "code",
   "execution_count": null,
   "id": "3cb1f405",
   "metadata": {
    "scrolled": true
   },
   "outputs": [],
   "source": [
    "font_scale = 3\n",
    "font = cv2.FONT_HERSHEY_PLAIN\n",
    "\n",
    "for ClassInd, conf, boxes in zip(ClassIndex.flatten(), confidece.flatten(), bbox):\n",
    "    cv2.rectangle(img, boxes, (255,0,0),2)\n",
    "    cv2.putText(img, classLabels[ClassInd-1], (boxes[0]+10, boxes[1]+40), font, fontScale=font_scale, color=(0,255,0), thickness=3)"
   ]
  },
  {
   "cell_type": "code",
   "execution_count": null,
   "id": "03dbd886",
   "metadata": {},
   "outputs": [],
   "source": [
    "plt.imshow(cv2.cvtColor(img, cv2.COLOR_BGR2RGB))"
   ]
  },
  {
   "cell_type": "markdown",
   "id": "805d4044",
   "metadata": {},
   "source": [
    "# Video Demo"
   ]
  },
  {
   "cell_type": "code",
   "execution_count": null,
   "id": "dbcc5584",
   "metadata": {},
   "outputs": [],
   "source": [
    "cap = cv2.VideoCapture('traffic-video.mp4')\n",
    "\n",
    "# Check if the video is being readed properly\n",
    "if not cap.isOpened():\n",
    "    cap = cv2.VideoCapture(0)\n",
    "if not cap.isOpened():\n",
    "    raise IOError('Cannot open the video')\n",
    "    \n",
    "font_scale = 3\n",
    "font = cv2.FONT_HERSHEY_PLAIN\n",
    "\n",
    "while True:\n",
    "    ret, frame = cap.read()\n",
    "    \n",
    "    ClassIndex, confidece, bbox = model.detect(frame,confThreshold=0.55)\n",
    "    \n",
    "    print(ClassIndex)\n",
    "    \n",
    "    if (len(ClassIndex) != 0):\n",
    "        for ClassInd, conf, boxes in zip(ClassIndex.flatten(), confidece.flatten(), bbox):\n",
    "            if (ClassInd<=80):\n",
    "                cv2.rectangle(frame, boxes, (255,0,0),2)\n",
    "                cv2.putText(frame, classLabels[ClassInd-1], (boxes[0]+10, boxes[1]+40), font, fontScale=font_scale, color=(0,255,0), thickness=3)\n",
    "    \n",
    "    cv2.imshow('Object Detection', frame)\n",
    "    \n",
    "    if cv2.waitKey(2) & 0xFF == ord('q'):       \n",
    "        break\n",
    "        \n",
    "cap.release()\n",
    "cap.destroyAllWindows()"
   ]
  },
  {
   "cell_type": "code",
   "execution_count": null,
   "id": "e7f113f6",
   "metadata": {},
   "outputs": [],
   "source": []
  }
 ],
 "metadata": {
  "kernelspec": {
   "display_name": "Python 3",
   "language": "python",
   "name": "python3"
  },
  "language_info": {
   "codemirror_mode": {
    "name": "ipython",
    "version": 3
   },
   "file_extension": ".py",
   "mimetype": "text/x-python",
   "name": "python",
   "nbconvert_exporter": "python",
   "pygments_lexer": "ipython3",
   "version": "3.8.5"
  }
 },
 "nbformat": 4,
 "nbformat_minor": 5
}
